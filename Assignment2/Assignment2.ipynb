{
 "cells": [
  {
   "cell_type": "markdown",
   "metadata": {},
   "source": [
    "#### CIE4604 Simulation and Visualization\n",
    "# Assignment 2 - GNSS-Reflectometry simulation\n",
    "\n",
    "GPS and other GNSS satellite signals are reflected by the Earth’s oceans. A GNSS-R(eflectrometry) receiver on board a satellite in a low Earth orbit (LEO) is able to receive both the **direct** signal from a GNSS satellite, as well as the signal **reflected** by the surface of the Earth. This will provide very useful information on the Sea state and level in particular\n",
    "\n",
    "![Remote Sensing geometry of GNSS-R (From: Jales, 2012](./dependencies/Jales2012.png)\n",
    "\n",
    "For this assignment you are given the task to simulate a GNSS-R(eflectometry) experiment on board the International Space Station (ISS). \n",
    "\n",
    "All the Python scripts can be found in `CIE4604-M2-python` that you can download from Brightspace. For the assignment you need the following modules\n",
    "- `tleplot.py`\n",
    "- `crsutil.py`\n",
    "- `specularpoint.py`\n",
    "\n",
    "You will also need to have `simplekml` installed (See exercise 6). \n",
    "\n",
    "The `CIE4604-M2-python` download comes with 8 exercises in Jupyter notebooks. We suggest that you study the Jupyter notebooks first and do the exercises. These already contain a lot of useful material for the assignment, some of which can be re-purposed for the assignment. An other option is to do this assignment in parallel with the exercises."
   ]
  },
  {
   "cell_type": "markdown",
   "metadata": {},
   "source": [
    "## Description of the GNSS-R experiment on board the ISS\n",
    "\n",
    "For the experiment a GNSS-R receiver will be installed on board the ISS. A GNSS-R receiver is able to\n",
    "\n",
    "1.\tReceive the direct signal from Global Navigation Satellite Systems (GNSS), such as the US GPS, Russian GLONASS, European GALILEO and Chinese BEIDOU satellites,\n",
    "2.\tReceive reflected GNSS signals from the Earth surface.\n",
    "\n",
    "The path delay difference between direct and reflected signal is a measure for the Sea-surface height. However, by recording the full reflected wave form also other parameters about the sea state, such as wave-height and direction, can be retrieved.\n",
    "\n",
    "The GNSS-R receiver on board the ISS uses two antenna’s, one **upward looking** standard **omnidirectional** antenna for the **direct** signals, and a specially designed **downward looking** antenna for the **reflected** signals. The opening angle of downward antenna (field of view) is not yet decided: the final value will depend on the outcome of the simulation, and will be a trade-off between received power and coverage."
   ]
  },
  {
   "cell_type": "markdown",
   "metadata": {},
   "source": [
    "## Breakdown in sub-tasks\n",
    "\n",
    "The first step of any task is to break it down in more manageable sub-tasks. Normally this is something that you have to do yourself, but here, for this assignment, we will give you the task breakdown. The sub-tasks you have to perform are:\n",
    "\n",
    "1. Simulate and visualize the ISS orbit trajectory\n",
    "2. Simulate and visualize the GPS satellite orbits\n",
    "3. Simulate and visualize GNSS signals from the upward looking omnidirectional antenna on the ISS (direct signals)\n",
    "4. Simulate and visualize GNSS signals from the down looking antenna on the ISS (reflected signals)\n",
    "\n",
    "More details on each sub-task can be found in the following cells."
   ]
  },
  {
   "cell_type": "markdown",
   "metadata": {},
   "source": [
    "## 1. Simulate and visualize the ISS orbit trajectory\n",
    "\n",
    "Simulate and visualize the orbit trajectory of the International Space Station ISS. You may use Two-Line Elements (TLE) for ISS (Zarya) that you can find on Celestrak. The questions need to be answered in this sub-task:\n",
    "\n",
    "a.\tWhat are the main limitations of using GNSS-R from the ISS for the spatial and temporal coverage?\n",
    "Hint: To answer this question you have to plot the ISS ground tracks (sub-satellite tracks), for which you may use `pltgroundtracks` from the `tleplot` Python module. \n",
    "\n",
    "b.\tWhat is the effect of the opening angle (field of view) of the downward looking antenna on the spatial coverage? As part of your answer compute the area of coverage (on the Earth) for an opening angle (field of view) of 40 degrees and of 100 degrees. You may report the size of the area of coverage in degrees. Hint: Some background information is given in exercise 7 `CIE4604_M2_Exercise7_aoc.ipynb` notebook.\n",
    "\n",
    "c.\tOver how many hours or days do you have to carry out the simulation so that all areas, that can possibly be observed, are observed?  \n",
    "\n",
    "In all steps we expect clear answers with a brief explanation. Include appropriate plots and visualizations wherever necessary."
   ]
  },
  {
   "cell_type": "code",
   "execution_count": 39,
   "metadata": {},
   "outputs": [],
   "source": [
    "# IMPORTS\n",
    "import numpy as np\n",
    "import crsutil as crs\n",
    "import tleplot as tle\n",
    "import specularpoint as spec\n"
   ]
  },
  {
   "cell_type": "code",
   "execution_count": 45,
   "metadata": {},
   "outputs": [
    {
     "name": "stdout",
     "output_type": "stream",
     "text": [
      "Found 1 satellites:\n",
      " ISS (ZARYA)  (0)\n",
      "isat: [0]\n"
     ]
    }
   ],
   "source": [
    "# Enter here your code to plot the ISS ground tracks (sub-satellite tracks) using \n",
    "# pltgroundtracks from the tleplot Python module.\n",
    "#\n",
    "# If you wish, you can add more cells.\n",
    "\n",
    "\n",
    "tleERS=tle.tleread('stations.txt', verbose=0)\n",
    "isat, satnames = tle.tlefind(tleERS, 0) # Zarya is indexed at 0 in our TLE file\n",
    "print('isat:',isat)\n",
    "# tleERS"
   ]
  },
  {
   "cell_type": "code",
   "execution_count": 47,
   "metadata": {},
   "outputs": [
    {
     "name": "stdout",
     "output_type": "stream",
     "text": [
      "t [17437.25069444 17461.25069444]\n",
      "xsat:  [[ 5227075.63538079  -306250.19882595  4336100.85284057]\n",
      " [-3857138.8140339  -2032292.44209563  5213300.6058849 ]]\n",
      "vsat:  [[ 3251.29740192  5989.58129516 -3491.15623145]\n",
      " [ 2136.31216078 -7249.43934342 -1247.45907665]]\n",
      "xsate [[ -982295.50939354 -5143073.44051178  4336100.85284057]\n",
      " [  253323.43873493  4352419.97471675  5213300.6058849 ]]\n",
      "vsate [[ 5141.72752362 -3929.78304922 -3491.15623145]\n",
      " [-6993.03505081  1898.81214752 -1247.45907665]]\n"
     ]
    }
   ],
   "source": [
    "# 1.a plot ISS tracks\n",
    "# the pltgroundtrack function takes the xsate in ECEF so convert to ECEF\n",
    "\n",
    "t = tle.tledatenum(['2017-9-28 6:01',24*24*60,24*24*60])\n",
    "print('t',t)\n",
    "\n",
    "xsat, vsat = tle.tle2vec(tleERS, t, 0)\n",
    "print('xsat: ', xsat)\n",
    "print('vsat: ', vsat)\n",
    "\n",
    "xsate, vsate = crs.eci2ecef(t, xsat, vsat)\n",
    "\n",
    "print('xsate',xsate)\n",
    "print('vsate',vsate)\n",
    "\n",
    "# plt.figure(\"Ground tracks\")\n",
    "# pltgroundtrack((sat1, dsat), visible=visible, satid=satid)\n",
    "# pltgroundtrack(xsate, satid=satid)\n",
    "# plt.title(\"Ground tracks for two satellites.\")\n",
    "# plt.legend() "
   ]
  },
  {
   "cell_type": "markdown",
   "metadata": {},
   "source": [
    "*Enter here your answers using markdown. Use one cell for each subquestion*"
   ]
  },
  {
   "cell_type": "markdown",
   "metadata": {},
   "source": [
    "## 2. Simulate and visualize the GPS satellite orbits\n",
    "\n",
    "Simulate and visualize the GPS orbits. You may again use TLE from Celestrak. Deliverables for this sub-task are:\n",
    "\n",
    "a.\tPlot of the GPS ground tracks.  You may again use `pltgroundtracks` from the `tleplot` module. Please think carefully about how to plot this data in a nice and concise manner, as there are about 30 operational GPS satellites.\n",
    "\n",
    "b.\tPolar plot (skyplot), using the azimuth and zenith angles, for a station on the Earth (e.g. Delft).  Hint: You may use the function `skyplot` from the `tleplot`  module. \n",
    "\n",
    "c.\tPlot with the number of GPS satellite in view as function of time for the same ground station. Consider carefully how you define visibility and which value you use as elevation cut-off angle. Hint: As an intermediate step, create a 2D boolean array with an axis for satellite, and an axis for time, with True whenever a satellite is visible.\n",
    "\n",
    "You may use a period of one day for these plots."
   ]
  },
  {
   "cell_type": "code",
   "execution_count": null,
   "metadata": {},
   "outputs": [],
   "source": [
    "# enter here your code and run the cell to produce the result, if you wish you can use more cells"
   ]
  },
  {
   "cell_type": "markdown",
   "metadata": {},
   "source": [
    "*Enter here your answers using markdown. Use one cell for each subquestion.*"
   ]
  },
  {
   "cell_type": "markdown",
   "metadata": {},
   "source": [
    "## 3. Simulate and visualize direct signals\n",
    "\n",
    "Simulate and visualize GNSS signals from the **upward looking omnidirectional** antenna on the ISS (direct signals). The opening angle of the upward looking antenna is 160 degrees (comparable to a 10 degree elevation cut-off angle). For this sub-task you have to use the simulated ISS and GPS positions from the previous sub-tasks. Questions to answer are:\n",
    "\n",
    "a.\tHow many GPS satellites are on average in view from the upward looking antenna? Illustrate this by a plot with the number of GPS satellite in view as function of time from the ISS (as in 2c). How does this compare to a station on the Earth (e.g. Delft)?\n",
    "\n",
    "b.\tWhat is the average duration of GPS satellite visibility, in minutes from start to end for each pass, from the ISS? Include a plot that clearly illustrates this answer. Again, how does this compare to the a station on the Earth?\n",
    "\n",
    "c.\tVisualize the ISS, GPS and observations from the upward looking omnidirectional antenna in Google Earth using the `simplekml` Python module. You may get some inspiration from exercise 6 `CIE4604-M2-Example6_kml.ipynb` notebook. Make separate kml folders (within the same kmz file) for ISS, GPS and direct observations. For the report (Jupyter notebook), include a screenshot showing trajectories for one day, but the direct observations only for a single epoch.\n",
    "\n",
    "You may use a period of one day for the plots. "
   ]
  },
  {
   "cell_type": "code",
   "execution_count": null,
   "metadata": {},
   "outputs": [],
   "source": [
    "# enter here your code and run the cell to produce the result, if you wish you can use more cells"
   ]
  },
  {
   "cell_type": "markdown",
   "metadata": {},
   "source": [
    "*Enter here your answer using markdown. Use one cell for each sub-question. For question 3c do not forget to include the screenshot, you can do this with syntax like `![](screenshot.png)`*."
   ]
  },
  {
   "cell_type": "markdown",
   "metadata": {},
   "source": [
    "## 4. Simulate and visualize reflected signals\n",
    "\n",
    "\n",
    "Simulate and visualize GNSS signals from the **downward looking** antenna on the ISS (reflected signals). The opening angle of the downward looking antenna is 40 degrees or 100 degrees.\n",
    "\n",
    "a.\tMake a function to compute the position of  the specular reflection points that are within the field of view (opening angle) of the down looking GPS antenna on board the ISS at a specified moment in time. \n",
    "\n",
    "Input for this function is:  the position of the ISS and  GPS satellite positions at a specific time (one epoch only), and the opening angle of the downward looking antenna (40 or 100 degrees). The output should be the position of the specular reflection points (zero, one or more) that fall within the opening angle. For the actual computation you may call the function `specularpoint` from the `specularpoint.py` module that is part of the `CIE4604_M2_Python.zip` distribution. This is also explained in more detail in exercise 8 `CIE4604_M2_Example8_sp.ipynb` notebook.\n",
    "\n",
    "b.\tMake a plot with the specular reflection points, ISS and GPS ground tracks in Python for a period of several minutes for two different values of the opening angle.\n",
    "\n",
    "c.\tVisualize the specular reflection points and reflected signals in Google Earth for two different values of the opening angle (40 degrees and 100 degrees), and add this to the kmz file of question 3c. Make a new kml folder (within the same kmz file) for each opening angle. \n",
    "\n",
    "Include in your report a screenshot of Google Earth showing the ISS, GPS and specular reflection point trajectories for a period of several minutes, while showing the direct and reflected signals only for a single epoch."
   ]
  },
  {
   "cell_type": "code",
   "execution_count": null,
   "metadata": {},
   "outputs": [],
   "source": [
    "# enter here your code and run the cell to produce the result, if you wish you can use more cells"
   ]
  },
  {
   "cell_type": "markdown",
   "metadata": {},
   "source": [
    "*Enter here your answer using markdown. Use one cell for each sub-question. For question 3c do not forget to include the screenshot, you can do this with syntax like `![](screenshot.png)`*."
   ]
  },
  {
   "cell_type": "markdown",
   "metadata": {},
   "source": [
    "# Deliverables\n",
    "\n",
    "The deliverables for this assignment are \n",
    "\n",
    "1.\tPdf of your Jupyter notebook or short report (pdf)  with a description of the GNSS-R simulator, plots of the results and answers to the questions.\n",
    "2.\tKMZ file (for display in Google Earth), one kmz file only, for question 3c and 4c combined.\n",
    "3.\tJupyter notebook or zip file with the code.\n",
    "\n",
    "The above deliverables have to be submitted electronically  through Brightspace.\n"
   ]
  },
  {
   "cell_type": "markdown",
   "metadata": {},
   "source": [
    "[End of this Jupyter notebook]"
   ]
  }
 ],
 "metadata": {
  "kernelspec": {
   "display_name": "Python 3 (ipykernel)",
   "language": "python",
   "name": "python3"
  },
  "language_info": {
   "codemirror_mode": {
    "name": "ipython",
    "version": 3
   },
   "file_extension": ".py",
   "mimetype": "text/x-python",
   "name": "python",
   "nbconvert_exporter": "python",
   "pygments_lexer": "ipython3",
   "version": "3.8.12"
  }
 },
 "nbformat": 4,
 "nbformat_minor": 4
}
