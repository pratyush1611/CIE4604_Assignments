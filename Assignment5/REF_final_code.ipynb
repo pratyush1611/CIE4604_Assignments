{
 "cells": [
  {
   "cell_type": "markdown",
   "metadata": {},
   "source": [
    "# About\n",
    "This notebook was developed by summer intern Pratyush (p.kumar-12@student.tudelft.nl) for his internship on \"Development of python based pipeline for automated detection of deforestation using optical images from Sentinel 2\"\n",
    "\n",
    "The notebook when run, ultimately results in 3 different UI panels:\n",
    "1. Daily mosaics display: takes input from user through a calendar for start date and end date, and displays the FCC and MBI for images within those dates\n",
    "2. Monthly composite display: takes date range from user along with the number of months to be composited and the method of composition, displays the FCC and classified MBI on the map\n",
    "3. NICFI PLANET display: takes date range from user (as calendar) and displays the NICFI basemap in FCC as well as NDVI and Reclassified NDVI\n"
   ]
  },
  {
   "cell_type": "code",
   "execution_count": 1,
   "metadata": {},
   "outputs": [],
   "source": [
    "# IMPORTS\n",
    "import ee\n",
    "import geemap\n",
    "import ipywidgets as widgets\n",
    "from IPython.display import display\n",
    "import datetime\n",
    "# ee.Authenticate() #used for authenticating a GEE account, opens new tab in browser for signing into a google account\n",
    "ee.Initialize() # initialize GEE"
   ]
  },
  {
   "cell_type": "markdown",
   "metadata": {},
   "source": [
    "# Layer imports, sytling and all Global variables which can be changed from here"
   ]
  },
  {
   "cell_type": "code",
   "execution_count": 2,
   "metadata": {},
   "outputs": [],
   "source": [
    "# BOUNDS AND STYLING \n",
    "\n",
    "aoi = ee.FeatureCollection(\"users/pratyush-s4g/reforester_bound\")\n",
    "s2 = ee.ImageCollection(\"COPERNICUS/S2_SR\")\n",
    "l8 = ee.ImageCollection('LANDSAT/LC08/C01/T1_SR')\n",
    "nicfi_raw = ee.ImageCollection('projects/planet-nicfi/assets/basemaps/asia')\n",
    "\n",
    "fnf = ee.ImageCollection(\"JAXA/ALOS/PALSAR/YEARLY/FNF\") #ALOS PALSAR data if needed to be displayed\n",
    "fnf_image = fnf.limit(1, 'system:time_start', False).first()\n",
    "\n",
    "\n",
    "# define styling params\n",
    "# Sentinel vis RGB and FCC\n",
    "fccVis = { 'min': 0.0,    'max': 3000,      'bands': ['B8', 'B4', 'B3'] } # for styling sentinel 2 images as FCC\n",
    "rgbVis = { 'min': 0.0,    'max': 3000,      'bands': ['B4', 'B3', 'B2'] } # for styling sentinel 2 images as RGB\n",
    "# reclassed soil index vis\n",
    "reclass_vis = {'min':-1, 'max':1, 'palette':['#f1a340','#7fbf7b'] }\n",
    "# foresr/non-forest vis (ALOS PALSAR)\n",
    "forestNonForestVis = {\"min\":1,  \"max\":3,    \"palette\":[\"006400\",\"FEFF99\",\"0000FF\"] } #for styling FNF PALSAR2 map\n",
    "# AOI styling\n",
    "style =  { \"color\": \"black\",    \"width\": 1,    \"fillColor\": \"00000111\"} #for styling the ITCI boundary\n",
    "styleParams = {  'fillColor': '00000111',  'color': '00909F',  'width': 3.0}\n",
    "# NICFI\n",
    "fccVisNICFI = {\"bands\":[\"N\",\"R\",\"G\"], \"min\":64, \"max\":5454, \"gamma\":1.8}\n",
    "ndviVisNICFI = { \"bands\":['NDVI'],'min':-0.55, 'max':0.8, 'palette': ['8bc4f9', 'c9995c', 'c7d270', '8add60', '097210' ]}\n",
    "ndviReclassVisNICFI = {'min':-1, 'max':1, 'palette':['#7fbf7b','#f1a340'] }\n",
    "\n",
    "\n",
    "# ####### GLOBAL VARIABLES\n",
    "CLD_PRB_THRESH = 50\n",
    "NIR_DRK_THRESH = 0.15\n",
    "CLD_PRJ_DIST = 1\n",
    "BUFFER = 50\n",
    "CLOUD_FILTER = 100\n",
    "\n",
    "# NICFI NDVI Thresholding\n",
    "NICFI_NDVI_thresh_val = 0.66\n",
    "\n",
    "# all thresholds are reclassified\n",
    "THRESHOLDS_reclass_soil_indices = { \"MBI\":1.15, \"NDMI\":-0.1, \"BSI\": -0.29 } \n",
    "\n",
    "# start and end date definitions for main image collection, starts 2018 and goes on till next year\n",
    "START_DATE = ee.Date('2018-01-01')\n",
    "END_DATE = ee.Date('2023-12-01')"
   ]
  },
  {
   "cell_type": "markdown",
   "metadata": {},
   "source": [
    "# Function definitions"
   ]
  },
  {
   "cell_type": "code",
   "execution_count": 3,
   "metadata": {},
   "outputs": [],
   "source": [
    "\n",
    "\n",
    "# ####### CLOUD MASKING FUNCTIONS ############\n",
    "def get_s2_sr_cld_col(aoi, start_date, end_date): \n",
    "    \"\"\"\n",
    "    summary: \n",
    "\n",
    "    aoi (ee.FeatureCollection): area of interest\n",
    "    start_date(ee.Date): start date for filtering image collection\n",
    "    end_date(ee.Date)  : end date for filtering image collection\n",
    "\n",
    "    returns (ee.ImageCollection): cloud probability added to images\n",
    "    \"\"\"\n",
    "    # Import and filter S2 SR.\n",
    "    s2_sr_col = (ee.ImageCollection('COPERNICUS/S2_SR')\n",
    "        .filterBounds(aoi)\n",
    "        .filterDate(start_date, end_date)\n",
    "        .filter(ee.Filter.lte('CLOUDY_PIXEL_PERCENTAGE', CLOUD_FILTER)))\n",
    "\n",
    "    # Import and filter s2cloudless.\n",
    "    s2_cloudless_col = (ee.ImageCollection('COPERNICUS/S2_CLOUD_PROBABILITY')\n",
    "        .filterBounds(aoi)\n",
    "        .filterDate(start_date, end_date))\n",
    "\n",
    "    # Join the filtered s2cloudless collection to the SR collection by the 'system:index' property.\n",
    "    return ee.ImageCollection(ee.Join.saveFirst('s2cloudless').apply(**{\n",
    "        'primary': s2_sr_col,\n",
    "        'secondary': s2_cloudless_col,\n",
    "        'condition': ee.Filter.equals(**{\n",
    "            'leftField': 'system:index',\n",
    "            'rightField': 'system:index'\n",
    "        })\n",
    "    }))\n",
    "\n",
    "\n",
    "def add_cloud_bands(img):\n",
    "    \"\"\" \n",
    "    summary: takes image and adds cloud bands to it\n",
    "    img (ee.Image) : image\n",
    "    returns (ee.Image): ee image with added cloud bands\n",
    "    \"\"\"\n",
    "    # Get s2cloudless image, subset the probability band.\n",
    "    cld_prb = ee.Image(img.get('s2cloudless')).select('probability')\n",
    "\n",
    "    # Condition s2cloudless by the probability threshold value.\n",
    "    is_cloud = cld_prb.gt(CLD_PRB_THRESH).rename('clouds')\n",
    "\n",
    "    # Add the cloud probability layer and cloud mask as image bands.\n",
    "    return img.addBands(ee.Image([cld_prb, is_cloud]))\n",
    "\n",
    "\n",
    "def add_shadow_bands(img):\n",
    "    \"\"\" \n",
    "    summary: takes image and adds shadow bands to it\n",
    "    img (ee.Image) : image\n",
    "    returns (ee.Image): ee image with added shadow bands\n",
    "    \"\"\"\n",
    "    # Identify water pixels from the SCL band.\n",
    "    not_water = img.select('SCL').neq(6)\n",
    "\n",
    "    # Identify dark NIR pixels that are not water (potential cloud shadow pixels).\n",
    "    SR_BAND_SCALE = 1e4\n",
    "    dark_pixels = img.select('B8').lt(NIR_DRK_THRESH*SR_BAND_SCALE).multiply(not_water).rename('dark_pixels')\n",
    "\n",
    "    # Determine the direction to project cloud shadow from clouds (assumes UTM projection).\n",
    "    shadow_azimuth = ee.Number(90).subtract(ee.Number(img.get('MEAN_SOLAR_AZIMUTH_ANGLE')));\n",
    "\n",
    "    # Project shadows from clouds for the distance specified by the CLD_PRJ_DIST input.\n",
    "    cld_proj = (img.select('clouds').directionalDistanceTransform(shadow_azimuth, CLD_PRJ_DIST*10)\n",
    "        .reproject(**{'crs': img.select(0).projection(), 'scale': 100})\n",
    "        .select('distance')\n",
    "        .mask()\n",
    "        .rename('cloud_transform'))\n",
    "\n",
    "    # Identify the intersection of dark pixels with cloud shadow projection.\n",
    "    shadows = cld_proj.multiply(dark_pixels).rename('shadows')\n",
    "\n",
    "    # Add dark pixels, cloud projection, and identified shadows as image bands.\n",
    "    return img.addBands(ee.Image([dark_pixels, cld_proj, shadows]))\n",
    "\n",
    "\n",
    "def add_cld_shdw_mask(img):\n",
    "    \"\"\" \n",
    "    summary: takes image and masks shadow\n",
    "    img (ee.Image) : image\n",
    "    returns (ee.Image)\n",
    "    \"\"\"\n",
    "    # Add cloud component bands.\n",
    "    img_cloud = add_cloud_bands(img)\n",
    "\n",
    "    # Add cloud shadow component bands.\n",
    "    img_cloud_shadow = add_shadow_bands(img_cloud)\n",
    "\n",
    "    # Combine cloud and shadow mask, set cloud and shadow as value 1, else 0.\n",
    "    is_cld_shdw = img_cloud_shadow.select('clouds').add(img_cloud_shadow.select('shadows')).gt(0)\n",
    "\n",
    "    # Remove small cloud-shadow patches and dilate remaining pixels by BUFFER input.\n",
    "    # 20 m scale is for speed, and assumes clouds don't require 10 m precision.\n",
    "    is_cld_shdw = (is_cld_shdw.focal_min(2).focal_max(BUFFER*2/20)\n",
    "        .reproject(**{'crs': img.select([0]).projection(), 'scale': 20})\n",
    "        .rename('cloudmask'))\n",
    "\n",
    "    # Add the final cloud-shadow mask to the image.\n",
    "    return img_cloud_shadow.addBands(is_cld_shdw)\n",
    "    ## other option return img.addBands(is_cld_shdw)\n",
    "\n",
    "\n",
    "def apply_cld_shdw_mask(img):\n",
    "    \"\"\" \n",
    "    summary: takes image and masks cloud\n",
    "    img (ee.Image) : image\n",
    "    returns (ee.Image)\n",
    "    \"\"\"    \n",
    "    # Subset the cloudmask band and invert it so clouds/shadow are 0, else 1.\n",
    "    not_cld_shdw = img.select('cloudmask').Not()\n",
    "\n",
    "    # Subset reflectance bands and update their masks, return the result.\n",
    "    return img.select('B.*').updateMask(not_cld_shdw)\n",
    "\n",
    "# //#/////////// FUNCTIONS FOR INDICES ////////////\n",
    "def add_indices(img):\n",
    "    \"\"\" \n",
    "    summary: takes image and adds indices to ir (MBI: Modified bare soil index, BSI: Bare soil index, NDMI: Normalised Difference Moisture Index and BI)\n",
    "    img (ee.Image) : image\n",
    "    returns (ee.Image) with added indices as bands\n",
    "    \"\"\"\n",
    "    swir1= img.select('B11')\n",
    "    swir2= img.select('B12')\n",
    "    nir_b8a  = img.select('B8A')\n",
    "    nir_b8 = img.select('B8')\n",
    "    blue = img.select('B2')\n",
    "    red = img.select('B4')\n",
    "\n",
    "\n",
    "    # //////////// MBI\n",
    "    mbi_numerator = swir1.subtract(swir2.subtract(nir_b8a))\n",
    "    mbi_denominator = swir1.add(swir2.add(nir_b8a))\n",
    "    mbi_image = ( mbi_numerator.divide(mbi_denominator).add(0.5)).reproject(**{'crs': img.select([0]).projection(), 'scale': 20}).rename('MBI')\n",
    "    # add mbi band\n",
    "    img = img.addBands(mbi_image)\n",
    "\n",
    "    # /////////// BI   \n",
    "    bi = (swir1.subtract(swir2)).divide( (swir1.add(swir2)) )\n",
    "    # add bi band\n",
    "    img = img.addBands(bi.reproject(**{'crs': img.select([0]).projection(), 'scale': 20}).rename('BI'))\n",
    "\n",
    "    # /////////// BSI\n",
    "    bsi = ( (swir2.add(red)).subtract(nir_b8.add(blue)) ).divide( (swir2.add(red)).add(nir_b8.add(blue)) )\n",
    "    # add bi band\n",
    "    img = img.addBands(bsi.reproject(**{'crs': img.select([0]).projection(), 'scale': 20}).rename('BSI'))\n",
    "\n",
    "    # ////////////// NDWI\n",
    "    ndmi = img.normalizedDifference(['B8','B11'])\n",
    "    # add bi band\n",
    "    img = img.addBands(ndmi.reproject(**{'crs': img.select([0]).projection(), 'scale': 20}).rename('NDMI'))\n",
    "\n",
    "    return img\n",
    "\n",
    "# /////////////////////////\n",
    "def water_remover(img):\n",
    "    \"\"\"\n",
    "    summary: takes image and masks those areas which have probability of water as per the JRC Global Surface Water layer on GEE\n",
    "    img (ee.Image)\n",
    "    returns (ee.Image): image with water areas masked\n",
    "    \"\"\"\n",
    "    mask = ee.Image('JRC/GSW1_3/GlobalSurfaceWater').select('occurrence').unmask(-99999)\n",
    "    noWaterImg = img.updateMask(mask.eq(-99999))\n",
    "    return noWaterImg\n",
    "\n",
    "# ///////////////////////////////////// NICFI NDVI\n",
    "def nicfiNDVI_maker(img):\n",
    "    \"\"\"\n",
    "    summary: takes NICFI PLANET high res image and computes NDVI, reclasses NDVI by threshold value, adds these as bands\n",
    "    img (ee.Image)\n",
    "    returns (ee.Image)\n",
    "    \"\"\"\n",
    "    ndvi = ee.Image(img).normalizedDifference(['N','R'])\n",
    "    img = img.addBands(ndvi.reproject(**{'crs': img.select([0]).projection(), 'scale': img.select([0]).projection().nominalScale()}).rename('NDVI'))\n",
    "\n",
    "    ndvi = img.select('NDVI')\n",
    "    reclassedImg = ee.Image(-9999).where( ndvi.gte(NICFI_NDVI_thresh_val) , -1 ).where( ndvi.lt(NICFI_NDVI_thresh_val) , 1)\n",
    "    mask = reclassedImg.neq(0)\n",
    "    reclassedImg=reclassedImg.updateMask(mask).rename(\"NDVI_reclassed\")\n",
    "    img = img.addBands(reclassedImg)\n",
    "    return img\n",
    "\n",
    "\n",
    "#//////////////////////// /////////// define thresholds\n",
    "# new approach, image has all index bands, and dict taken as param for thresholds\n",
    "def reclass_entire_image(image):\n",
    "    \"\"\"\n",
    "    summary: takes image and reclassifies the BSI, MBI and NDMI bands as per the globally defined thresholds\n",
    "    image (ee.Image)\n",
    "    return (ee.Image): with reclassifications added as new bands, each with Index name and suffix of '_reclassed'\n",
    "    \"\"\"\n",
    "    for thresh_type, thresh_val in THRESHOLDS_reclass_soil_indices.items():\n",
    "        img_raw = image.select(thresh_type)\n",
    "\n",
    "        if thresh_type != 'BSI':    \n",
    "            reclassedImg = ee.Image(0).where( img_raw.lt(thresh_val) , -1 ).where( img_raw.gte(thresh_val) , 1)\n",
    "            mask = reclassedImg.neq(0)\n",
    "            reclassedImg=reclassedImg.updateMask(mask).rename(thresh_type+'_reclassed')\n",
    "\n",
    "        elif thresh_type == 'BSI':    \n",
    "            reclassedImg = ee.Image(0).where( img_raw.gt(thresh_val) , -1 ).where( img_raw.lte(thresh_val) , 1)\n",
    "            mask = reclassedImg.neq(0)\n",
    "            reclassedImg=reclassedImg.updateMask(mask).rename(thresh_type+'_reclassed')\n",
    "\n",
    "        # add reclassified image as a band to original image source\n",
    "        image = image.addBands(reclassedImg)\n",
    "    return image\n",
    "\n",
    "\n",
    "# /////////////////////////////////   # change detection\n",
    "# compare this image with a previous one in the dataframe and check if it was already bare soil\n",
    "# make function which takes 2 images and then checks for deforestation\n",
    "def change_detector(img1, img2):\n",
    "    \"\"\"\n",
    "    summary: takes 2 images as earth engine images, and checks if something changed from not-bare soil to bare soil\n",
    "    img1 (ee.Image): image of date < img2\n",
    "    img2 (ee.Image): image of date > img1\n",
    "    return: returns a new image with only those pixels which changed from non-bare soil to bare soil\n",
    "    \"\"\"\n",
    "    # get mask\n",
    "    mask1 = img1.neq(0)\n",
    "    mask2 = img2.neq(0)\n",
    "   \n",
    "    # convert the images to boolean , True if bare soil\n",
    "    img1_bool = ee.Image(0).where(img1.eq(-1), 1)\n",
    "    img2_bool = ee.Image(0).where(img2.eq(-1), 1)\n",
    "\n",
    "    new_image = ee.Image(0).where( (img2_bool.eq(1).And( img1_bool.eq(0)) ) , 1 )\n",
    "    new_image = new_image.updateMask(mask1).updateMask(mask2)\n",
    "    # print(mask1)\n",
    "    return new_image\n",
    "\n",
    "\n",
    "# mosaick by day function\n",
    "def mosaicByDate(imcol):\n",
    "    \"\"\"\n",
    "    summary: takes image collection and mosaics images in it by day, so single image per aoi per day\n",
    "    imcol (ee.ImageCollection) : image collection filtered by date by user\n",
    "    return (ee.ImageCollection) : mosaiced by day\n",
    "    \"\"\"\n",
    "    def mosaicking_func_helper(d):\n",
    "        d = ee.Date(d)\n",
    "        im = imcol.filterDate(d, d.advance(1, \"day\")).mosaic()\n",
    "        return im.set(\n",
    "            \"system:time_start\", d.millis(), \n",
    "            \"system:id\", d.format(\"YYYY-MM-dd\"))\n",
    "\n",
    "    imlist = imcol.toList(imcol.size())\n",
    "    unique_dates = imlist.map( lambda im: ee.Image(im).date().format(\"YYYY-MM-dd\")  ).distinct()\n",
    "    mosaic_imlist = unique_dates.map(mosaicking_func_helper)\n",
    "    return ee.ImageCollection(mosaic_imlist)\n",
    "\n",
    "  # mosaick by day function\n",
    "\n",
    "def compositeByMonth(imcol, no_of_months=1, mode='median'):\n",
    "  \"\"\"\n",
    "    summary: for monthly composite, the user inputs the date duration and the number of months to composite as well as the mode of composition\n",
    "             code then takes the mega imageCollection and filters by date\n",
    "             after this the code then keeps only list of months which need to be kept for the composition function to run on every nth month\n",
    "    imcol (ee.ImageCollection): image collection of daily mosaics to be composited together by month\n",
    "    no_of_months (int)        : number of months, whose images need to be composited together\n",
    "    mode (str)                : method of making composite\n",
    "  returns: new image collection of images composited together\n",
    "  \"\"\"\n",
    "  def mosaicking_func_helper_month(d):\n",
    "    d = ee.Date(d)\n",
    "    # im = imcol.filterDate( d.advance(no_of_months*(-1), \"month\") , d.advance(1,'month').advance(-1,'day') ).median()\n",
    "    if mode=='median':\n",
    "        im = imcol.filterDate( d.advance(no_of_months*(-1), \"month\") , d.advance(1,'month').advance(-1,'day') ).median()\n",
    "    elif mode=='mean':\n",
    "        im = imcol.filterDate( d.advance(no_of_months*(-1), \"month\") , d.advance(1,'month').advance(-1,'day') ).mean()\n",
    "    elif mode=='mosaic':\n",
    "        im = imcol.filterDate( d.advance(no_of_months*(-1), \"month\") , d.advance(1,'month').advance(-1,'day') ).mosaic()\n",
    "    return im.set(\"system:time_start\", d.millis(), \"system:id\", d.format(\"YYYY-MM\"))\n",
    "      \n",
    "  imlist = imcol.toList(imcol.size())\n",
    "  unique_dates = imlist.map( lambda im: ee.Image(im).date().format(\"YYYY-MM\")).distinct().reverse() #reverses order of the list of unique months\n",
    "  datesIndx = ee.List.sequence(0, ee.Number.subtract(unique_dates.size() ,ee.Number(1)), no_of_months )\n",
    "  finDates = datesIndx.map(lambda x: unique_dates.get(x))\n",
    "  no_of_months-=1\n",
    "  #   make list of dates \n",
    "  if int(unique_dates.size().getInfo()) <= no_of_months+1:\n",
    "    no_of_months = 1 #return monthly mosaic if date invalid\n",
    "    mosaic_imlist = finDates.map(mosaicking_func_helper_month)\n",
    "  else:\n",
    "    mosaic_imlist = finDates.map(mosaicking_func_helper_month)\n",
    "  \n",
    "  return ee.ImageCollection(mosaic_imlist)\n",
    "\n",
    "# ///////////////////// function for displaying iteratively an image collection\n",
    "def display_func(imgCol, aoi, method= 'monthly'):\n",
    "    \"\"\"\n",
    "    summary: displays the image collections' images and MBI on a geemap.Map instance\n",
    "    \n",
    "    imgcol (ee.ImageCollection) : image collection whose images are to be displayed\n",
    "    aoi (ee.FeatureCollection)  : Area of interest\n",
    "    method (str)                : defines if the image collection is of type (daily mosaic, monthly composite or NICFI PLANET high resolution images) \n",
    "                                if the image collection is of type NICFI then the FCC and the NDVI and reclassified NDVI are displayed\n",
    "    \n",
    "    return (geemap.Map()): a geemap.Map instance based on ipyLeaflet with added FCC images and MBI reclassifications showing bare soil/non bare soil\n",
    "    \"\"\"\n",
    "    if method == 'monthly':\n",
    "        imgColDisp = geemap.Map()\n",
    "        imgColDisp.centerObject(aoi,9.5)\n",
    "        imgColAsList = imgCol.toList(imgCol.size())\n",
    "        for i in range(int(imgColAsList.size().getInfo())):\n",
    "            img= ee.Image(imgColAsList.get(i))\n",
    "            img_dt = img.date().format('YYYY-MM').getInfo()\n",
    "            imgColDisp.addLayer( img.clip(aoi) , fccVis, img_dt)\n",
    "            imgColDisp.addLayer( img.clip(aoi).select(['MBI_reclassed']) , reclass_vis, img_dt+'_MBI_reclassified')\n",
    "        imgColDisp.addLayer(aoi.style(**style), {}, \"aoi\")\n",
    "        # imgCol.map(lambda x: imgColDisp.addLayer(x, fccVis)) # doesnt work this way\n",
    "        return imgColDisp\n",
    "\n",
    "    elif method == 'daily': # not monthly mosaic images , so consider that date range will have day as well\n",
    "        imgColDisp = geemap.Map()\n",
    "        imgColDisp.centerObject(aoi,9.5)\n",
    "        imgColAsList = imgCol.toList(imgCol.size())\n",
    "        for i in range(int(imgColAsList.size().getInfo())):\n",
    "            img= ee.Image(imgColAsList.get(i))\n",
    "            img_dt = img.date().format('YYYY-MM-dd').getInfo()\n",
    "            imgColDisp.addLayer( img.clip(aoi) , fccVis, img_dt)\n",
    "            imgColDisp.addLayer( img.clip(aoi).select(['MBI_reclassed']) , reclass_vis, img_dt+'_MBI_reclassified')\n",
    "        imgColDisp.addLayer(aoi.style(**style), {}, \"aoi\")\n",
    "        return imgColDisp\n",
    "\n",
    "    elif method == 'nicfi': # not monthly mosaic images , so consider that date range will have day as well\n",
    "        imgColDisp = geemap.Map()\n",
    "        imgColDisp.centerObject(aoi,9.5)\n",
    "        imgColAsList = imgCol.toList(imgCol.size())\n",
    "        for i in range(int(imgColAsList.size().getInfo())):\n",
    "            img= ee.Image(imgColAsList.get(i))\n",
    "            img_dt = img.date().format('YYYY-MM-dd').getInfo()\n",
    "            imgColDisp.addLayer( img.clip(aoi) , fccVisNICFI,  img_dt )\n",
    "            imgColDisp.addLayer( img.clip(aoi) , ndviVisNICFI, img_dt + '_NDVI')\n",
    "            imgColDisp.addLayer( img.select('NDVI_reclassed').clip(aoi) , ndviReclassVisNICFI, img_dt + '_NDVI_reclass')\n",
    "        imgColDisp.addLayer(aoi.style(**style), {}, \"aoi\")\n",
    "        return imgColDisp\n",
    "\n",
    "# ////////////////\n",
    "def compute_pol_area(pol):\n",
    "    \"\"\"\n",
    "    summary: computes area of the polygon \n",
    "    pol (ee.FeatureCollection): polygon, (MBI or NDVI reduced to vector)\n",
    "    return (ee.FeatureCollection)\n",
    "    \"\"\"\n",
    "    proj = 'EPSG:32750'\n",
    "    area_ha = pol.area( **{'maxError':1, 'proj':ee.Projection(proj)} ).divide(10000)\n",
    "    return pol.set('area_ha',area_ha)\n",
    "\n",
    "def exporting_function(imgCol, aoi, planet=False):\n",
    "    \"\"\"\n",
    "    summary: takes image collecyion and computes, the vector for soil/non soil or NDVI and exports the raster and vector\n",
    "    imgcol (ee.ImageCollection): image collection whose images are to be exported, can be monthly composites, \n",
    "                                daily mosaics or NICFI maps with NDVI\n",
    "    aoi (ee.FeatureCollection) : are of interest\n",
    "    planet (Boolean)           : if true, it indicates that the image collection is from NICFI, otherwise is treated like \n",
    "                                a Sentinel 2 image with added reclassified soil indices\n",
    "\n",
    "    return (str): says that exporting was run\n",
    "    \"\"\"\n",
    "    imgColAsList = imgCol.toList(imgCol.size())\n",
    "    for i in range(int(imgColAsList.size().getInfo())):\n",
    "        img= ee.Image(imgColAsList.get(i)).clip(aoi)\n",
    "        if planet == False: #means S2 data\n",
    "            img_dt = img.date().format('YYYY-MM-dd').getInfo()\n",
    "            # get vector\n",
    "            soil = ee.Image(0).where(img.select('MBI_reclassed').eq(-1), 1)\n",
    "            soil = soil.mask(soil.neq(0))\n",
    "            # vector = soil.reduceToVectors(**{'reducer':'mean', 'scale':20, 'eightConnected':True , 'maxPixels':79199549900}\n",
    "            vector = soil.reduceToVectors(**{\n",
    "                                    'geometry': aoi.geometry(),\n",
    "                                    'crs': soil.projection(),\n",
    "                                    'scale': 20,\n",
    "                                    'geometryType': 'polygon',\n",
    "                                    'eightConnected': True,\n",
    "                                    'labelProperty': 'zone',\n",
    "                                    'maxPixels':79199549900\n",
    "                                    }).map(compute_pol_area).filterMetadata('area_ha','greater_than',0.01)\n",
    "            # Export the image, specifying scale and region.\n",
    "            task_fcc = ee.batch.Export.image.toDrive(**{\n",
    "                                                        'image': img.select(['B8','B4','B3','B2']),\n",
    "                                                        'description': \"FCC_RGB_\"+img_dt,\n",
    "                                                        'folder':'Exports',\n",
    "                                                        'scale': 10,\n",
    "                                                        'region': aoi.geometry(),\n",
    "                                                        'crs':img.select([\"B4\"]).projection()\n",
    "                                                    })\n",
    "            task_soil_vect = ee.batch.Export.table.toDrive(**{\n",
    "                                                            'collection': vector,\n",
    "                                                            'description': \"MBI_\" + img_dt,\n",
    "                                                            'folder':'Exports',\n",
    "                                                            'fileFormat': 'GeoJSON'\n",
    "                                                            })\n",
    "            task_fcc.start()\n",
    "            task_soil_vect.start()\n",
    "        else: #planet data\n",
    "            img_dt = img.date().format('YYYY-MM').getInfo()\n",
    "            \n",
    "            # get vector\n",
    "            soil = img.select('NDVI_reclassed').eq(1)\n",
    "            soil = soil.mask(soil.neq(0))\n",
    "            # vector = soil.reduceToVectors(**{'reducer':'mean', 'scale':img.select(['NDVI_reclassed']).projection().nominalScale(), 'eightConnected':True , 'maxPixels':79199549900})\n",
    "            vector = soil.reduceToVectors(**{\n",
    "                                    'geometry': aoi.geometry(),\n",
    "                                    'crs': img.select(['N']).projection(),\n",
    "                                    'scale': img.select(['N']).projection().nominalScale(),\n",
    "                                    'geometryType': 'polygon',\n",
    "                                    'eightConnected': True,\n",
    "                                    'labelProperty': 'zone',\n",
    "                                    'maxPixels':79199549900\n",
    "                                    }).map(compute_pol_area).filterMetadata('area_ha','greater_than',0.01)\n",
    "            # Export the image, specifying scale and region.\n",
    "            task_fcc = ee.batch.Export.image.toDrive(**{\n",
    "                                                        'image': img.select(['N','R','G','B']),\n",
    "                                                        'description': \"NICFI_\"+img_dt,\n",
    "                                                        'folder':'Exports',\n",
    "                                                        'scale': img.select([0]).projection().nominalScale(),\n",
    "                                                        'region': aoi.geometry(),\n",
    "                                                        'crs':img.select(['N']).projection(),\n",
    "                                                        'maxPixels': 200000000\n",
    "                                                    })\n",
    "            task_soil_vect = ee.batch.Export.table.toDrive(**{\n",
    "                                                            'collection': vector,\n",
    "                                                            'description': \"NDVI_\" + img_dt,\n",
    "                                                            'folder':'Exports',\n",
    "                                                            'fileFormat': 'GeoJSON'\n",
    "                                                            })\n",
    "            task_fcc.start()\n",
    "            task_soil_vect.start()\n",
    "\n",
    "\n",
    "    return \"....Export has begun....\""
   ]
  },
  {
   "cell_type": "markdown",
   "metadata": {},
   "source": [
    "# Image collection formation\n",
    "Initially a pandas DataFrame baseed approach was used, which can be found in initial commits, it worked fine, however was super slow owing to the usage of .getInfo() on every image in the image collection. Moreover, for that method to work, a scheduled task would have to be run to keep the main datafrsame updated with all images.\n",
    "\n",
    "taking in input from [stackoverflow](https://gis.stackexchange.com/questions/280156/mosaicking-a-image-collection-by-date-day-in-google-earth-engine)\n",
    "\n",
    "Qn: Why were we using the dataframe approach and what advantages does it have over just using an imageCollaction and filtering it out by day\n",
    "\n",
    "Ans:\n",
    "* maybe was better to use df as it is easy to groupby date and mosaic \n",
    "* or just extracting images from a single storage location is easy\n",
    "* easy to share the images inside the team since the processed images can alltogether be stored in as less as 50KB\n",
    "\n",
    "image collection for ITCI boundary with S2 is available from 2018 december, best to make collection from then\n",
    "could also use it as a limitor if user inputs the date\n",
    "\n",
    "## Thresholding\n",
    "All image collections are defined below, namely:\n",
    "1. nicfi_with_NDVI: PLANET basemap (NRGB) mapped with water removal and NDVI, reclassified NDVI band added\n",
    "2. s2_cloud_masked: S2 level 2A image collection with cloud probabilities and shadows added\n",
    "3. s2_cloud_masked: above image collection without clouds and shadows\n",
    "4. mosaicked_img_col: daily mosaicked images with water removed and soil indices added\n",
    "5. mosaicked_img_col_thresholded: above with reclassified soil indices added"
   ]
  },
  {
   "cell_type": "code",
   "execution_count": 4,
   "metadata": {},
   "outputs": [],
   "source": [
    "aoi_new = ee.Geometry.LineString( [[116.35173971508155, -0.9258534575298593], [116.43001730297217, -0.7034029388578974]])\n",
    "# NICFI PLANET\n",
    "nicfi_with_NDVI = nicfi_raw.map( nicfiNDVI_maker).map(water_remover)\n",
    "# Join the filtered s2cloudless collection to the SR collection by the 'system:index' property.\n",
    "s2_cloud_masked = get_s2_sr_cld_col(aoi_new, START_DATE, END_DATE)\n",
    "# adding cloud masking\n",
    "cloud_masked_collection = s2_cloud_masked.map(add_cld_shdw_mask).map(apply_cld_shdw_mask)\n",
    "# mosaicing by date and adding indices, removing water\n",
    "mosaicked_img_col = mosaicByDate(cloud_masked_collection).map(add_indices).map(water_remover)\n",
    "# applying the thresholds as defined in the function definition\n",
    "mosaicked_img_col_thresholded = mosaicked_img_col.map(reclass_entire_image)"
   ]
  },
  {
   "cell_type": "markdown",
   "metadata": {},
   "source": [
    "# UI with jupyter widgets\n",
    "The below cell defines different widgets to be used for display of images using UI, to be used both for daily mosaics and monthly composites\n",
    "It also goes ahead and sets up the GridSpecs for displaying these UI widgets in a grid fashion"
   ]
  },
  {
   "cell_type": "code",
   "execution_count": 5,
   "metadata": {},
   "outputs": [],
   "source": [
    "month_num = list(zip( \"January February March April May June July August September October November December\".split(), [int(x) for x in \"1 2 3 4 5 6 7 8 9 10 11 12\".split()] ))\n",
    "yearNumList = list(range(2018,2022))\n",
    "datesNumList = list(range(1,32))\n",
    "\n",
    "numOfMonnthsCompositeInput = widgets.IntText(value=2,description='Select Number of months for the composite to be made',disabled=False,orientation= 'center')\n",
    "compositeType = widgets.RadioButtons(options=['median', 'mean', 'mosaic'],value='median', description='Method:',disabled=False)\n",
    "\n",
    "dailyMosDateStart = widgets.DatePicker(description='Start Date', disabled=False, value = datetime.date(2020,12,15) )\n",
    "dailyMosDateEnd   = widgets.DatePicker(description='End Date'  , disabled=False, value = datetime.date(2021,1,15) )\n",
    "\n",
    "monCompDateStart =  widgets.DatePicker(description='Start Date', disabled=False, value = datetime.date(2021,1,1) )\n",
    "monCompDateEnd   =  widgets.DatePicker(description='End Date'  , disabled=False, value = datetime.date(2021,10,31) )\n",
    "\n",
    "nicfiDateStart =    widgets.DatePicker(description='Start Date', disabled=False, value = datetime.date(2019,8,1) )\n",
    "nicfiDateEnd   =    widgets.DatePicker(description='End Date'  , disabled=False, value = datetime.date(2020,6,30) )\n",
    "testButt = widgets.Box()\n",
    "grid_day_mos = widgets.GridspecLayout(2,2)\n",
    "grid_day_mos[0,0] = dailyMosDateStart\n",
    "grid_day_mos[1,0] = dailyMosDateEnd\n",
    "# [:,1] = \n",
    "\n",
    "grid_mon_comp = widgets.GridspecLayout(3,4)\n",
    "grid_mon_comp[0,:2] = monCompDateStart\n",
    "grid_mon_comp[1,:2] = monCompDateEnd\n",
    "grid_mon_comp[2:,:2 ] = numOfMonnthsCompositeInput\n",
    "grid_mon_comp[:,2: ] = compositeType\n",
    "\n",
    "grid_nicfi = widgets.GridspecLayout(2,2)\n",
    "grid_nicfi[0,:] = nicfiDateStart\n",
    "grid_nicfi[1,:] = nicfiDateEnd\n"
   ]
  },
  {
   "cell_type": "markdown",
   "metadata": {},
   "source": [
    "# Daily Mosaic with user interaction"
   ]
  },
  {
   "cell_type": "code",
   "execution_count": 6,
   "metadata": {},
   "outputs": [
    {
     "data": {
      "application/vnd.jupyter.widget-view+json": {
       "model_id": "b3b1b0007af2478892167124c91d91b2",
       "version_major": 2,
       "version_minor": 0
      },
      "text/plain": [
       "GridspecLayout(children=(DatePicker(value=datetime.date(2020, 12, 15), description='Start Date', layout=Layout…"
      ]
     },
     "metadata": {},
     "output_type": "display_data"
    }
   ],
   "source": [
    "grid_day_mos"
   ]
  },
  {
   "cell_type": "code",
   "execution_count": 7,
   "metadata": {},
   "outputs": [
    {
     "data": {
      "application/vnd.jupyter.widget-view+json": {
       "model_id": "f36e6373508a428c975185be667ceeea",
       "version_major": 2,
       "version_minor": 0
      },
      "text/plain": [
       "Map(center=[-0.75764352288308, 116.5124147639097], controls=(WidgetControl(options=['position', 'transparent_b…"
      ]
     },
     "metadata": {},
     "output_type": "display_data"
    }
   ],
   "source": [
    "dt_begin_user, dt_end_user = ee.Date(dailyMosDateStart.value.strftime('%Y-%m-%d')), ee.Date(dailyMosDateEnd.value.strftime('%Y-%m-%d'))\n",
    "coln = mosaicked_img_col_thresholded.filterDate(dt_begin_user, dt_end_user)\n",
    "display_func(coln, aoi, 'daily')"
   ]
  },
  {
   "cell_type": "code",
   "execution_count": 8,
   "metadata": {},
   "outputs": [
    {
     "name": "stdout",
     "output_type": "stream",
     "text": [
      "You did not say Yes to exporting, aborting export...\n"
     ]
    }
   ],
   "source": [
    "# //////////// FOR EXPORTING, takes user input using an input tab\n",
    "y_n= (input(\"Are you sure you want to export the Daily Mosaics Image collection and MBI to your Drive? y/[n]: \")).lower()\n",
    "if y_n == 'y':\n",
    "    # yes, do export\n",
    "    exporting_function(coln, aoi, planet=False)\n",
    "else:\n",
    "    print(\"You did not say Yes to exporting, aborting export...\")"
   ]
  },
  {
   "cell_type": "markdown",
   "metadata": {},
   "source": [
    "# Monthly composition with user interaction"
   ]
  },
  {
   "cell_type": "code",
   "execution_count": 9,
   "metadata": {},
   "outputs": [
    {
     "data": {
      "application/vnd.jupyter.widget-view+json": {
       "model_id": "ad2db3d3e809484a91a27dd40583efe8",
       "version_major": 2,
       "version_minor": 0
      },
      "text/plain": [
       "GridspecLayout(children=(DatePicker(value=datetime.date(2021, 1, 1), description='Start Date', layout=Layout(g…"
      ]
     },
     "metadata": {},
     "output_type": "display_data"
    }
   ],
   "source": [
    "grid_mon_comp"
   ]
  },
  {
   "cell_type": "code",
   "execution_count": 10,
   "metadata": {},
   "outputs": [
    {
     "data": {
      "application/vnd.jupyter.widget-view+json": {
       "model_id": "1db7e775718843dd9be4738cf656706a",
       "version_major": 2,
       "version_minor": 0
      },
      "text/plain": [
       "Map(center=[-0.75764352288308, 116.5124147639097], controls=(WidgetControl(options=['position', 'transparent_b…"
      ]
     },
     "metadata": {},
     "output_type": "display_data"
    }
   ],
   "source": [
    "stDt, edDt = ee.Date(monCompDateStart.value.strftime('%Y-%m-%d')), ee.Date(monCompDateEnd.value.strftime('%Y-%m-%d'))\n",
    "user_month_input = numOfMonnthsCompositeInput.value\n",
    "method = compositeType.value\n",
    "# display_func(mosaicked_img_col_thresholded.filterDate(dt_begin_user, dt_end_user), aoi, False) \n",
    "monMos = compositeByMonth(mosaicked_img_col.filterDate(stDt, edDt) ,user_month_input, method)\n",
    "monmos_thresholded = monMos.map(reclass_entire_image)\n",
    "display_func(monmos_thresholded, aoi, 'monthly')"
   ]
  },
  {
   "cell_type": "code",
   "execution_count": 11,
   "metadata": {},
   "outputs": [
    {
     "name": "stdout",
     "output_type": "stream",
     "text": [
      "You did not say Yes to exporting, aborting export...\n"
     ]
    }
   ],
   "source": [
    "# ///////////// UNCOMMENT BELOW LINE FOR ENABLING EXPORT\n",
    "y_n= (input(\"Are you sure you want to export the Daily Mosaics Image collection and MBI to your Drive? y/[n]: \")).lower()\n",
    "if y_n == 'y':\n",
    "    # yes, do export\n",
    "    exporting_function(monmos_thresholded, aoi, False)\n",
    "else:\n",
    "    print(\"You did not say Yes to exporting, aborting export...\")"
   ]
  },
  {
   "cell_type": "markdown",
   "metadata": {},
   "source": [
    "# NICFI FCC and NDVI"
   ]
  },
  {
   "cell_type": "code",
   "execution_count": 12,
   "metadata": {},
   "outputs": [
    {
     "data": {
      "application/vnd.jupyter.widget-view+json": {
       "model_id": "62cd8cac3d294e4a8635d72c7964aa17",
       "version_major": 2,
       "version_minor": 0
      },
      "text/plain": [
       "GridspecLayout(children=(DatePicker(value=datetime.date(2019, 8, 1), description='Start Date', layout=Layout(g…"
      ]
     },
     "metadata": {},
     "output_type": "display_data"
    }
   ],
   "source": [
    "grid_nicfi"
   ]
  },
  {
   "cell_type": "code",
   "execution_count": 13,
   "metadata": {},
   "outputs": [
    {
     "data": {
      "application/vnd.jupyter.widget-view+json": {
       "model_id": "91a7c88250964d2abcf8b4361b6111ec",
       "version_major": 2,
       "version_minor": 0
      },
      "text/plain": [
       "Map(center=[-0.75764352288308, 116.5124147639097], controls=(WidgetControl(options=['position', 'transparent_b…"
      ]
     },
     "metadata": {},
     "output_type": "display_data"
    }
   ],
   "source": [
    "nicfi_dt_begin_user, nicfi_dt_end_user = ee.Date(nicfiDateStart.value.strftime('%Y-%m-%d')), ee.Date(nicfiDateEnd.value.strftime('%Y-%m-%d'))\n",
    "coln_nicfi = nicfi_with_NDVI.filterDate(nicfi_dt_begin_user, nicfi_dt_end_user) \n",
    "display_func( coln_nicfi, aoi, 'nicfi')"
   ]
  },
  {
   "cell_type": "code",
   "execution_count": 14,
   "metadata": {},
   "outputs": [
    {
     "name": "stdout",
     "output_type": "stream",
     "text": [
      "You did not say Yes to exporting, aborting export...\n"
     ]
    }
   ],
   "source": [
    "y_n= (input(\"Are you sure you want to export the Daily Mosaics Image collection and MBI to your Drive? y/[n]: \")).lower()\n",
    "if y_n == 'y':\n",
    "    # yes, do export\n",
    "    exporting_function(coln_nicfi, aoi, planet=True)\n",
    "else:\n",
    "    print(\"You did not say Yes to exporting, aborting export...\")"
   ]
  },
  {
   "cell_type": "markdown",
   "metadata": {},
   "source": [
    "# Tile URL in case needed (Example)\n",
    "From this [link](https://gis.stackexchange.com/questions/355014/ipyleaflet-with-gee-in-jupyterlab-doesnt-show-layer), taking the answer, we get the Tile URL of the image that we wish to display\n",
    "\n",
    "This tile URL can be further used in a Mapbox or DeckGL based UI"
   ]
  },
  {
   "cell_type": "code",
   "execution_count": 15,
   "metadata": {},
   "outputs": [
    {
     "data": {
      "text/plain": [
       "'https://earthengine.googleapis.com/v1alpha/projects/earthengine-legacy/maps/49e67bee21a205aad336082ecacc3b99-2c2e1a7651541042f2e4fc3fdd9ffdef/tiles/{z}/{x}/{y}'"
      ]
     },
     "execution_count": 15,
     "metadata": {},
     "output_type": "execute_result"
    }
   ],
   "source": [
    "# nicfi tile url\n",
    "testIDImage = nicfi_with_NDVI.filterDate(ee.Date('2019-06-01'), ee.Date('2019-10-01')).first()\n",
    "testIDImage.getMapId({'bands': ['N', 'R', 'G'], 'min': 64, 'max': 5454, 'gamma': 1.8})['tile_fetcher'].url_format"
   ]
  }
 ],
 "metadata": {
  "interpreter": {
   "hash": "963d9035cddc712db33b2ea1a9954956d2677e626e64de3eb0d4d0d392ee16e2"
  },
  "kernelspec": {
   "display_name": "Python 3.7.11 64-bit ('s4g': conda)",
   "name": "python3"
  },
  "language_info": {
   "codemirror_mode": {
    "name": "ipython",
    "version": 3
   },
   "file_extension": ".py",
   "mimetype": "text/x-python",
   "name": "python",
   "nbconvert_exporter": "python",
   "pygments_lexer": "ipython3",
   "version": "3.7.11"
  }
 },
 "nbformat": 4,
 "nbformat_minor": 2
}
